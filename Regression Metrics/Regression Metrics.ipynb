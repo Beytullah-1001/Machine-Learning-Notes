{
 "cells": [
  {
   "cell_type": "markdown",
   "metadata": {},
   "source": [
    "### Boston Housing Data\n",
    "\n",
    "In order to gain a better understanding of the metrics used in regression settings, we will be looking at the Boston Housing dataset.  \n",
    "\n",
    "First use the cell below to read in the dataset and set up the training and testing data that will be used for the rest of this problem."
   ]
  },
  {
   "cell_type": "code",
   "execution_count": 1,
   "metadata": {},
   "outputs": [
    {
     "name": "stdout",
     "output_type": "stream",
     "text": [
      "[ 14.6  16.6  27.1  20.1  19.8  21.   41.3  23.2  20.4  18.5  29.4  36.4\n",
      "  24.4  11.8  13.8  12.3  17.8  33.1  26.7  13.4  14.4  50.   22.   19.9\n",
      "  23.8  17.5  12.7   5.6  31.1  26.2  19.4  16.7  13.8  22.9  15.3  27.5\n",
      "  36.1  22.9  24.5  25.   50.   34.9  31.7  24.1  22.1  14.1  42.8  19.3\n",
      "  32.2  26.4  21.8  21.7   8.3  46.7  43.1  31.5  10.5  16.7  20.   33.3\n",
      "  17.8  50.   20.5  23.2  13.1  19.6  22.8  28.7  30.7  22.9  21.9  23.9\n",
      "  32.7  24.3  21.5  24.6   8.5  26.4  23.1  15.    8.8  19.3  23.9  24.7\n",
      "  19.8  23.8  13.3  29.   27.1  34.6  13.3  15.6  12.5  14.6  11.   24.8\n",
      "  17.3   8.1  21.4  15.6  23.3  32.   38.7  30.1  20.5  32.5  42.3  24.3\n",
      "  20.6  22.   18.2  15.    6.3  20.1  21.4  28.4  30.1  20.8  23.   14.3\n",
      "  11.7  37.3  17.1  10.4  23.   22.7  20.3  21.7  50.    8.4  18.8  37.2\n",
      "  16.1  16.5  22.2  20.6  13.5  48.3  23.8  22.7  17.4  30.3  36.   41.7\n",
      "  18.3  22.   18.6  44.8  11.9  18.7  16.2  22.    7.2  20.4  13.8  13.\n",
      "  18.4  23.1  21.2  23.1  23.5  50.   26.6  22.2  50.    8.3  23.3  21.7\n",
      "  18.9  18.4  17.4  13.4  12.1  26.6  21.7  28.4  20.5  22.   13.9  11.3\n",
      "  29.9  26.6  10.5  23.2  24.4  46.   21.9   7.5  36.2  44.   17.8  27.5\n",
      "  37.6  14.1  28.1  10.2  19.1  43.8  27.9  25.   16.   16.6  13.2  50.\n",
      "  22.2  32.9  15.2  14.8  13.8  24.3  33.8  22.3  50.    9.5  13.3  22.2\n",
      "  18.1  18.   25.   16.5  23.   20.1  33.   24.8  18.2  13.1  34.9  10.2\n",
      "  19.9  27.9  23.3  35.1  12.8  22.   18.5  25.1  22.5  22.4  28.6  19.5\n",
      "  24.8  24.5  21.4  33.1  22.9  20.7  24.1  50.   24.7  28.7   7.2  37.\n",
      "  20.3  30.1  19.5  23.4  11.5  21.6  14.9  15.2  19.4   8.4  28.   22.6\n",
      "  13.5  14.5  31.   10.9  21.9  22.   19.   21.4  25.   17.5  36.5  20.1\n",
      "  20.4  16.2  23.6   7.4  35.2  50.   19.3  21.2  15.6  33.4  19.1  21.\n",
      "  23.7  18.9  16.8  19.7  17.7  22.6  11.8  34.9  20.6  20.2  32.   22.3\n",
      "  23.3  14.4  31.2  24.   29.6  19.6  21.6  20.   27.   33.2  15.4  30.5\n",
      "   7.2  23.9  16.3  23.9  50.   22.8  15.4  19.2  19.6  22.6  33.2  50.\n",
      "  22.2  14.9  19.8  23.7  19.   20.3  11.9  13.6  29.8  21.7  19.5  21.1\n",
      "  24.5  13.4  18.6]\n",
      "[[  1.02330000e+01   0.00000000e+00   1.81000000e+01 ...,   2.02000000e+01\n",
      "    3.79700000e+02   1.80300000e+01]\n",
      " [  6.71910000e-01   0.00000000e+00   8.14000000e+00 ...,   2.10000000e+01\n",
      "    3.76880000e+02   1.48100000e+01]\n",
      " [  1.44550000e-01   1.25000000e+01   7.87000000e+00 ...,   1.52000000e+01\n",
      "    3.96900000e+02   1.91500000e+01]\n",
      " ..., \n",
      " [  1.50100000e-02   8.00000000e+01   2.01000000e+00 ...,   1.70000000e+01\n",
      "    3.90940000e+02   5.99000000e+00]\n",
      " [  1.11604000e+01   0.00000000e+00   1.81000000e+01 ...,   2.02000000e+01\n",
      "    1.09850000e+02   2.32700000e+01]\n",
      " [  2.28760000e-01   0.00000000e+00   8.56000000e+00 ...,   2.09000000e+01\n",
      "    7.08000000e+01   1.06300000e+01]]\n"
     ]
    }
   ],
   "source": [
    "from sklearn.datasets import load_boston\n",
    "from sklearn.model_selection import train_test_split\n",
    "import numpy as np\n",
    "import tests2 as t\n",
    "\n",
    "boston = load_boston()\n",
    "y = boston.target\n",
    "X = boston.data\n",
    "\n",
    "\n",
    "X_train, X_test, y_train, y_test = train_test_split(\n",
    "            X, y, test_size=0.33, random_state=42)\n",
    "print(y_train)\n",
    "print(X_train)"
   ]
  },
  {
   "cell_type": "markdown",
   "metadata": {},
   "source": [
    "> **Step 1:** Before we get too far, let's do a quick check of the models that you can use in this situation given that you are working on a regression problem.  Use the dictionary and corresponding letters below to provide all the possible models you might choose to use."
   ]
  },
  {
   "cell_type": "code",
   "execution_count": 2,
   "metadata": {},
   "outputs": [
    {
     "name": "stdout",
     "output_type": "stream",
     "text": [
      "That's right!  All but logistic regression can be used for predicting numeric values.  And linear regression is the only one of these that you should not use for predicting categories.  Technically sklearn won't stop you from doing most of anything you want, but you probably want to treat cases in the way you found by answering this question!\n"
     ]
    }
   ],
   "source": [
    "# When can you use the model - use each option as many times as necessary\n",
    "a = 'regression'\n",
    "b = 'classification'\n",
    "c = 'both regression and classification'\n",
    "\n",
    "models = {\n",
    "    'decision trees':c, # Letter here,\n",
    "    'random forest': c ,# Letter here,\n",
    "    'adaptive boosting':c,# ,\n",
    "    'logistic regression':b, #c Letter here,\n",
    "    'linear regression': a# \n",
    "}\n",
    "\n",
    "#checks your answer, no need to change this code\n",
    "t.q1_check(models)"
   ]
  },
  {
   "cell_type": "markdown",
   "metadata": {},
   "source": [
    "> **Step 2:** Now for each of the models you found in the previous question that can be used for regression problems, import them using sklearn."
   ]
  },
  {
   "cell_type": "code",
   "execution_count": 3,
   "metadata": {},
   "outputs": [],
   "source": [
    "# Import models from sklearn - notice you will want to use \n",
    "# the regressor version (not classifier) - googling to find \n",
    "# each of these is what we all do!\n",
    "from sklearn.ensemble import AdaBoostClassifier\n",
    "from sklearn.tree import DecisionTreeClassifier\n",
    "from sklearn.linear_model import LinearRegression\n",
    "from sklearn.ensemble import RandomForestClassifier"
   ]
  },
  {
   "cell_type": "markdown",
   "metadata": {},
   "source": [
    "> **Step 3:** Now that you have imported the 4 models that can be used for regression problems, instantate each below."
   ]
  },
  {
   "cell_type": "code",
   "execution_count": 4,
   "metadata": {},
   "outputs": [],
   "source": [
    "# Instantiate each of the models you imported\n",
    "# For now use the defaults for all the hyperparameters\n",
    "ada_boost=AdaBoostClassifier(random_state=0)\n",
    "desicion_tree=DecisionTreeClassifier(random_state=0)\n",
    "linear_regression=LinearRegression()\n",
    "random_forest=RandomForestClassifier()"
   ]
  },
  {
   "cell_type": "markdown",
   "metadata": {},
   "source": [
    "> **Step 4:** Fit each of your instantiated models on the training data."
   ]
  },
  {
   "cell_type": "code",
   "execution_count": 5,
   "metadata": {},
   "outputs": [
    {
     "data": {
      "text/plain": [
       "RandomForestClassifier(bootstrap=True, class_weight=None, criterion='gini',\n",
       "            max_depth=None, max_features='auto', max_leaf_nodes=None,\n",
       "            min_impurity_decrease=0.0, min_impurity_split=None,\n",
       "            min_samples_leaf=1, min_samples_split=2,\n",
       "            min_weight_fraction_leaf=0.0, n_estimators=10, n_jobs=1,\n",
       "            oob_score=False, random_state=None, verbose=0,\n",
       "            warm_start=False)"
      ]
     },
     "execution_count": 5,
     "metadata": {},
     "output_type": "execute_result"
    }
   ],
   "source": [
    "# Fit each of your models using the training data\n",
    "from sklearn import preprocessing\n",
    "from sklearn import utils\n",
    "\n",
    "\n",
    "\n",
    "ada_boost.fit(X_train.astype(int),y_train.astype(int))\n",
    "desicion_tree.fit(X_train.astype(int),y_train.astype(int))\n",
    "linear_regression.fit(X_train.astype(int),y_train.astype(int))\n",
    "random_forest.fit(X_train.astype(int),y_train.astype(int))\n"
   ]
  },
  {
   "cell_type": "markdown",
   "metadata": {},
   "source": [
    "> **Step 5:** Use each of your models to predict on the test data."
   ]
  },
  {
   "cell_type": "code",
   "execution_count": 6,
   "metadata": {},
   "outputs": [
    {
     "name": "stdout",
     "output_type": "stream",
     "text": [
      "[22 33 15 24 14 18 17 14 20 17 23 16  8 18 16 22 20  7 50 14 22 32 13 20 16\n",
      " 14 20 13 22 17 22 22 21 14 13 15 50 19 22 21 13 33 50 22 22  8 17 21 16 22\n",
      " 19 30 19 27 43 18 14 27 22 22 22 33 24 18 18 22 15 28 27 13 19 21  8 18 18\n",
      "  5 19 50  7  8 22  8 22 11 16 24 14 21 22 19 22  8 19 17 21 18 27  7 14  7\n",
      " 22 21 13 20 23 13 18 24 19 22  7  7 22 37 31 14 50 14 21 23 20 26 16 18 26\n",
      " 22 23 50 13 30 17 37 16 16 14 22 19 24 29 18 16 29 23 22  8 22 15 14 13 44\n",
      " 14 14 24 19 23 21 11 21 24 16 26 19 19 22 22 18 50]\n"
     ]
    }
   ],
   "source": [
    "# Predict on the test values for each model\n",
    "adaboost_predictions=ada_boost.predict(X_test.astype(int))\n",
    "#print(adaboost_predictions)\n",
    "\n",
    "desicion_tree_predictions=desicion_tree.predict(X_test.astype(int))\n",
    "linear_regression_predictions=linear_regression.predict(X_test.astype(int))\n",
    "random_forest_predictions=random_forest.predict(X_test.astype(int))\n",
    "print(random_forest_predictions)"
   ]
  },
  {
   "cell_type": "markdown",
   "metadata": {},
   "source": [
    "> **Step 6:** Now for the information related to this lesson.  Use the dictionary to match the metrics that are used for regression and those that are for classification."
   ]
  },
  {
   "cell_type": "code",
   "execution_count": 7,
   "metadata": {},
   "outputs": [
    {
     "name": "stdout",
     "output_type": "stream",
     "text": [
      "That's right! Looks like you know your metrics!\n"
     ]
    }
   ],
   "source": [
    "# potential model options\n",
    "a = 'regression'\n",
    "b = 'classification'\n",
    "c = 'both regression and classification'\n",
    "\n",
    "#\n",
    "metrics = {\n",
    "    'precision':b, # Letter here,\n",
    "    'recall':b ,# Letter here,\n",
    "    'accuracy':b ,# Letter here,\n",
    "    'r2_score':a, # Letter here,\n",
    "    'mean_squared_error':a, # Letter here,\n",
    "    'area_under_curve':b, # Letter here, \n",
    "    'mean_absolute_area':a # Letter here \n",
    "}\n",
    "\n",
    "#checks your answer, no need to change this code\n",
    "t.q6_check(metrics)"
   ]
  },
  {
   "cell_type": "markdown",
   "metadata": {},
   "source": [
    "> **Step 6:** Now that you have identified the metrics that can be used in for regression problems, use sklearn to import them."
   ]
  },
  {
   "cell_type": "code",
   "execution_count": 12,
   "metadata": {},
   "outputs": [],
   "source": [
    "# Import the metrics from sklearn\n",
    "from sklearn.metrics import accuracy_score\n",
    "from sklearn.metrics import precision_score\n",
    "from sklearn.metrics import recall_score\n",
    "from sklearn.metrics import r2_score\n",
    "from sklearn.metrics import mean_squared_error\n",
    "from sklearn.metrics import mean_absolute_error\n",
    "from sklearn.metrics import auc\n"
   ]
  },
  {
   "cell_type": "markdown",
   "metadata": {},
   "source": [
    "> **Step 7:** Similar to what you did with classification models, let's make sure you are comfortable with how exactly each of these metrics is being calculated.  We can then match the value to what sklearn provides."
   ]
  },
  {
   "cell_type": "code",
   "execution_count": 13,
   "metadata": {},
   "outputs": [
    {
     "name": "stdout",
     "output_type": "stream",
     "text": [
      "---Decision Tree R2 Score---\n",
      "0.597548276746\n",
      "0.597548276746\n",
      "---Adaboost R2 Score---\n",
      "0.212196148663\n",
      "0.212196148663\n",
      "Since the above match, we can see that we have correctly calculated the r2 value.\n"
     ]
    }
   ],
   "source": [
    "def r2(actual, preds):\n",
    "    '''\n",
    "    INPUT:\n",
    "    actual - numpy array or pd series of actual y values\n",
    "    preds - numpy array or pd series of predicted y values\n",
    "    OUTPUT:\n",
    "    returns the r-squared score as a float\n",
    "    '''\n",
    "    sse = np.sum((actual-preds)**2)\n",
    "    sst = np.sum((actual-np.mean(actual))**2)\n",
    "    return 1 - sse/sst\n",
    "\n",
    "# Check solution matches sklearn\n",
    "preds_tree=desicion_tree_predictions\n",
    "preds_adaboost=adaboost_predictions\n",
    "print(\"---Decision Tree R2 Score---\")\n",
    "print(r2(y_test, preds_tree))\n",
    "print(r2_score(y_test, preds_tree))\n",
    "print(\"---Adaboost R2 Score---\")\n",
    "print(r2(y_test, preds_adaboost))\n",
    "print(r2_score(y_test, preds_adaboost))\n",
    "print(\"Since the above match, we can see that we have correctly calculated the r2 value.\")"
   ]
  },
  {
   "cell_type": "markdown",
   "metadata": {},
   "source": [
    "> **Step 8:** Your turn fill in the function below and see if your result matches the built in for mean_squared_error. "
   ]
  },
  {
   "cell_type": "code",
   "execution_count": 14,
   "metadata": {},
   "outputs": [
    {
     "name": "stdout",
     "output_type": "stream",
     "text": [
      "30.4569461078\n",
      "30.4569461078\n",
      "If the above match, you are all set!\n"
     ]
    }
   ],
   "source": [
    "\n",
    "def mse(actual, preds):\n",
    "    '''\n",
    "    INPUT:\n",
    "    actual - numpy array or pd series of actual y values\n",
    "    preds - numpy array or pd series of predicted y values\n",
    "    OUTPUT:\n",
    "    returns the mean squared error as a float\n",
    "    '''\n",
    "    \n",
    "    \n",
    "    return ((preds-actual)**2).mean()# calculate mse here\n",
    "\n",
    "\n",
    "# Check your solution matches sklearn\n",
    "print(mse(y_test, preds_tree))\n",
    "print(mean_squared_error(y_test, preds_tree))\n",
    "print(\"If the above match, you are all set!\")"
   ]
  },
  {
   "cell_type": "markdown",
   "metadata": {},
   "source": [
    "> **Step 9:** Now one last time - complete the function related to mean absolute error.  Then check your function against the sklearn metric to assure they match. "
   ]
  },
  {
   "cell_type": "code",
   "execution_count": 15,
   "metadata": {},
   "outputs": [
    {
     "name": "stdout",
     "output_type": "stream",
     "text": [
      "3.80419161677\n",
      "3.80419161677\n",
      "If the above match, you are all set!\n"
     ]
    }
   ],
   "source": [
    "def mae(actual, preds):\n",
    "    '''\n",
    "    INPUT:\n",
    "    actual - numpy array or pd series of actual y values\n",
    "    preds - numpy array or pd series of predicted y values\n",
    "    OUTPUT:\n",
    "    returns the mean absolute error as a float\n",
    "    '''\n",
    "    \n",
    "    return np.abs(preds-actual).mean() # calculate the mae here\n",
    "\n",
    "# Check your solution matches sklearn\n",
    "print(mae(y_test, preds_tree))\n",
    "print(mean_absolute_error(y_test, preds_tree))\n",
    "print(\"If the above match, you are all set!\")"
   ]
  },
  {
   "cell_type": "markdown",
   "metadata": {},
   "source": [
    "> **Step 10:** Which model performed the best in terms of each of the metrics?  Note that r2 and mse will always match, but the mae may give a different best model.  Use the dictionary and space below to match the best model via each metric."
   ]
  },
  {
   "cell_type": "code",
   "execution_count": 22,
   "metadata": {},
   "outputs": [
    {
     "name": "stdout",
     "output_type": "stream",
     "text": [
      "That's right!  The random forest was best in terms of all the metrics this time!\n"
     ]
    }
   ],
   "source": [
    "#match each metric to the model that performed best on it\n",
    "a = 'decision tree'\n",
    "b = 'random forest'\n",
    "c = 'adaptive boosting'\n",
    "d = 'linear regression'\n",
    "\n",
    "\n",
    "best_fit = {\n",
    "    'mse':b,#etter here,\n",
    "    'r2': b,#etter here,\n",
    "    'mae':b#etter here\n",
    "}\n",
    "\n",
    "#Tests your answer - don't change this code\n",
    "t.check_ten(best_fit)"
   ]
  },
  {
   "cell_type": "code",
   "execution_count": null,
   "metadata": {},
   "outputs": [],
   "source": [
    "# cells for work"
   ]
  },
  {
   "cell_type": "code",
   "execution_count": null,
   "metadata": {},
   "outputs": [],
   "source": []
  },
  {
   "cell_type": "code",
   "execution_count": null,
   "metadata": {},
   "outputs": [],
   "source": []
  }
 ],
 "metadata": {
  "kernelspec": {
   "display_name": "Python 3",
   "language": "python",
   "name": "python3"
  },
  "language_info": {
   "codemirror_mode": {
    "name": "ipython",
    "version": 3
   },
   "file_extension": ".py",
   "mimetype": "text/x-python",
   "name": "python",
   "nbconvert_exporter": "python",
   "pygments_lexer": "ipython3",
   "version": "3.6.3"
  }
 },
 "nbformat": 4,
 "nbformat_minor": 2
}
